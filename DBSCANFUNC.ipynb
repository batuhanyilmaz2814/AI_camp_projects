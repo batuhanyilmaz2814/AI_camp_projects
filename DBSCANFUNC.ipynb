{
 "cells": [
  {
   "cell_type": "code",
   "execution_count": 20,
   "id": "8d6f69c9-65ce-4b06-8ee5-651f65b24815",
   "metadata": {},
   "outputs": [],
   "source": [
    "def oklid(p1: List[float], p2: List[float])-> float:\n",
    "    return math.sqrt( sum((x1-x2)**2 for x1, x2 in zip (p1,p2)))"
   ]
  },
  {
   "cell_type": "code",
   "execution_count": 21,
   "id": "f77f5efb-b2fd-44ac-8f07-a0fda5585fc1",
   "metadata": {},
   "outputs": [],
   "source": [
    "def neighbour_points( points: List[List[float]], index, epsilon):\n",
    "    neighbours = []\n",
    "    for i in range(len(points)):\n",
    "        distance = oklid(points[index], points[i])\n",
    "        if distance <= epsilon:\n",
    "            neighbours.append(i)\n",
    "    return neighbours\n",
    "\n",
    "\n",
    "        "
   ]
  },
  {
   "cell_type": "code",
   "execution_count": 22,
   "id": "c53be268-25fc-48e0-a58a-8c76ae0b50a9",
   "metadata": {},
   "outputs": [],
   "source": [
    "def expand_cluster(points, index, neighbours, cluster_id, labels, epsilon, min_pts, visited):\n",
    "    labels[index] = cluster_id\n",
    "    \n",
    "    a = 0\n",
    "    while a < len(neighbours):\n",
    "        neighbour = neighbours[a]\n",
    "\n",
    "        if visited[neighbour] == False:\n",
    "            visited[neighbour] = True\n",
    "            new_neighbours = neighbour_points(points, neighbour, epsilon)\n",
    "\n",
    "            if len(new_neighbours) >= min_pts:\n",
    "                neighbours = neighbours + new_neighbours\n",
    "\n",
    "        if labels[neighbour] == -1:\n",
    "            labels[neighbour] = cluster_id\n",
    "\n",
    "        a += 1\n",
    "\n",
    "        \n",
    "        "
   ]
  },
  {
   "cell_type": "code",
   "execution_count": 2,
   "id": "d5a0eefa-2136-4b9b-b1fa-7fcd7c272685",
   "metadata": {},
   "outputs": [],
   "source": [
    "def dbscan(points, epsilon, min_pts):\n",
    "    n = len(points)\n",
    "    visited = [False] * n\n",
    "    labels = [-1] * n\n",
    "    cluster_id = 0\n",
    "\n",
    "    for i in range(n):\n",
    "        if visited[i]:\n",
    "            continue\n",
    "\n",
    "        visited[i] = True\n",
    "        neighbours = neighbour_points(points, i, epsilon)\n",
    "\n",
    "        if len(neighbours) < min_pts:\n",
    "            labels[i] = -1 #gürültü olarak işaretleme\n",
    "\n",
    "        else:\n",
    "            expand_cluster(points, i, neighbours, cluster_id, labels, epsilon, min_pts, visited)\n",
    "            cluster_id += 1\n",
    "\n",
    "        for r in labels:\n",
    "\n",
    "            if r == -1:\n",
    "                neighbours = neighbour_points(points, labels[r], epsilon)\n",
    "\n",
    "                if len(neighbours) < min_pts:\n",
    "                    continue\n",
    "                else:\n",
    "                    expand_cluster(points, i, neighbours, cluster_id, labels, epsilon, min_pts, visited)\n",
    "            \n",
    "\n",
    "        return labels"
   ]
  },
  {
   "cell_type": "code",
   "execution_count": null,
   "id": "b8a5c471-34ee-4b68-b3f4-50eaaa5bc07b",
   "metadata": {},
   "outputs": [],
   "source": []
  },
  {
   "cell_type": "code",
   "execution_count": null,
   "id": "3aedcf38-c91c-43a3-9b44-18bce12112db",
   "metadata": {},
   "outputs": [],
   "source": []
  }
 ],
 "metadata": {
  "kernelspec": {
   "display_name": "Python (newkernel)",
   "language": "python",
   "name": "newkernel"
  },
  "language_info": {
   "codemirror_mode": {
    "name": "ipython",
    "version": 3
   },
   "file_extension": ".py",
   "mimetype": "text/x-python",
   "name": "python",
   "nbconvert_exporter": "python",
   "pygments_lexer": "ipython3",
   "version": "3.11.13"
  }
 },
 "nbformat": 4,
 "nbformat_minor": 5
}
