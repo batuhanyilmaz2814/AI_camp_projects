{
 "cells": [
  {
   "cell_type": "code",
   "execution_count": 23,
   "id": "564c53ef-afad-4ece-af67-97c3c427c3a6",
   "metadata": {},
   "outputs": [],
   "source": [
    "import numpy as np\n",
    "import random"
   ]
  },
  {
   "cell_type": "code",
   "execution_count": 24,
   "id": "33a7733f-2588-447e-965e-7e031848c070",
   "metadata": {},
   "outputs": [],
   "source": [
    "X = np.array([\n",
    "    [0,0],\n",
    "    [0,1],\n",
    "    [1,0],\n",
    "    [1,1]])"
   ]
  },
  {
   "cell_type": "code",
   "execution_count": 25,
   "id": "bbb4b425-add1-470c-be86-19011c041f8d",
   "metadata": {},
   "outputs": [],
   "source": [
    "y = np.array([0,1,1,1])"
   ]
  },
  {
   "cell_type": "code",
   "execution_count": 26,
   "id": "335523b5-19fd-40f3-bb31-5a311ee92cbd",
   "metadata": {},
   "outputs": [],
   "source": [
    "np.random.seed(28)\n",
    "weights = np.random.randn(2)\n",
    "bias = np.random.randn()\n",
    "\n",
    "bias = 0\n",
    "lr = 0.1\n",
    "epochs = 10000"
   ]
  },
  {
   "cell_type": "code",
   "execution_count": 27,
   "id": "eb5a97aa-70c3-40e5-9803-cc859228f192",
   "metadata": {},
   "outputs": [],
   "source": [
    "def step_func(x):\n",
    "    return 1 if x >= 0 else 0\n",
    "    "
   ]
  },
  {
   "cell_type": "code",
   "execution_count": 28,
   "id": "a87482e2-4cb7-4388-9865-b83e5b519e43",
   "metadata": {},
   "outputs": [],
   "source": [
    "for epoch in range(epochs):\n",
    "    for xi, target in zip(X,y):\n",
    "        net = np.dot(xi, weights) + bias\n",
    "        y_pred = step_func(net)\n",
    "\n",
    "        error = target - y_pred\n",
    "\n",
    "        weights += lr * error * xi\n",
    "        bias += lr * error"
   ]
  },
  {
   "cell_type": "code",
   "execution_count": 29,
   "id": "8a8c6821-fc7c-4786-bd96-2c5de2f08078",
   "metadata": {},
   "outputs": [
    {
     "name": "stdout",
     "output_type": "stream",
     "text": [
      "Eğitim tamamlandı\n"
     ]
    }
   ],
   "source": [
    "print(\"Eğitim tamamlandı\")"
   ]
  },
  {
   "cell_type": "code",
   "execution_count": 22,
   "id": "4f2251ed-f30d-4691-bbc1-72aade22551f",
   "metadata": {},
   "outputs": [
    {
     "name": "stdout",
     "output_type": "stream",
     "text": [
      "Girdi: [0 0], Tahmin 0\n",
      "Girdi: [0 1], Tahmin 1\n",
      "Girdi: [1 0], Tahmin 1\n",
      "Girdi: [1 1], Tahmin 1\n"
     ]
    }
   ],
   "source": [
    "for xi in X:\n",
    "    net = np.dot(xi,weights)+ bias\n",
    "    y_pred = step_func(net)\n",
    "    print(f\"Girdi: {xi}, Tahmin {y_pred}\")"
   ]
  },
  {
   "cell_type": "code",
   "execution_count": null,
   "id": "847b97de-043e-4de7-951a-b5b6d2c4c62e",
   "metadata": {},
   "outputs": [],
   "source": []
  }
 ],
 "metadata": {
  "kernelspec": {
   "display_name": "Python (newkernel)",
   "language": "python",
   "name": "newkernel"
  },
  "language_info": {
   "codemirror_mode": {
    "name": "ipython",
    "version": 3
   },
   "file_extension": ".py",
   "mimetype": "text/x-python",
   "name": "python",
   "nbconvert_exporter": "python",
   "pygments_lexer": "ipython3",
   "version": "3.11.13"
  }
 },
 "nbformat": 4,
 "nbformat_minor": 5
}
