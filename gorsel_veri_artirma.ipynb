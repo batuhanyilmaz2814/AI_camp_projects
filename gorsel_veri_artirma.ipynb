{
 "cells": [
  {
   "cell_type": "code",
   "execution_count": 2,
   "id": "2f246287-70c7-4299-99d0-d364e90c5a4d",
   "metadata": {},
   "outputs": [
    {
     "ename": "ModuleNotFoundError",
     "evalue": "No module named 'tensorflow'",
     "output_type": "error",
     "traceback": [
      "\u001b[31m---------------------------------------------------------------------------\u001b[39m",
      "\u001b[31mModuleNotFoundError\u001b[39m                       Traceback (most recent call last)",
      "\u001b[36mCell\u001b[39m\u001b[36m \u001b[39m\u001b[32mIn[2]\u001b[39m\u001b[32m, line 1\u001b[39m\n\u001b[32m----> \u001b[39m\u001b[32m1\u001b[39m \u001b[38;5;28;01mimport\u001b[39;00m\u001b[38;5;250m \u001b[39m\u001b[34;01mtensorflow\u001b[39;00m\u001b[38;5;250m \u001b[39m\u001b[38;5;28;01mas\u001b[39;00m\u001b[38;5;250m \u001b[39m\u001b[34;01mtf\u001b[39;00m\n\u001b[32m      2\u001b[39m \u001b[38;5;28;01mfrom\u001b[39;00m\u001b[38;5;250m \u001b[39m\u001b[34;01mtensorflow\u001b[39;00m\u001b[34;01m.\u001b[39;00m\u001b[34;01mkeras\u001b[39;00m\u001b[34;01m.\u001b[39;00m\u001b[34;01mpreprocessing\u001b[39;00m\u001b[34;01m.\u001b[39;00m\u001b[34;01mimage\u001b[39;00m\u001b[38;5;250m \u001b[39m\u001b[38;5;28;01mimport\u001b[39;00m ImageDataGenerator, load_img, img_to_array\n\u001b[32m      3\u001b[39m \u001b[38;5;28;01mimport\u001b[39;00m\u001b[38;5;250m \u001b[39m\u001b[34;01mmatplotlib\u001b[39;00m\u001b[34;01m.\u001b[39;00m\u001b[34;01mpyplot\u001b[39;00m\u001b[38;5;250m \u001b[39m\u001b[38;5;28;01mas\u001b[39;00m\u001b[38;5;250m \u001b[39m\u001b[34;01mplt\u001b[39;00m\n",
      "\u001b[31mModuleNotFoundError\u001b[39m: No module named 'tensorflow'"
     ]
    }
   ],
   "source": [
    "import tensorflow as tf\n",
    "from tensorflow.keras.preprocessing.image import ImageDataGenerator, load_img, img_to_array\n",
    "import matplotlib.pyplot as plt\n",
    "import numpy as np\n"
   ]
  },
  {
   "cell_type": "code",
   "execution_count": 7,
   "id": "796fe00d-8175-43d0-a553-fc2cae542415",
   "metadata": {},
   "outputs": [
    {
     "ename": "NameError",
     "evalue": "name 'load_img' is not defined",
     "output_type": "error",
     "traceback": [
      "\u001b[31m---------------------------------------------------------------------------\u001b[39m",
      "\u001b[31mNameError\u001b[39m                                 Traceback (most recent call last)",
      "\u001b[36mCell\u001b[39m\u001b[36m \u001b[39m\u001b[32mIn[7]\u001b[39m\u001b[32m, line 2\u001b[39m\n\u001b[32m      1\u001b[39m \u001b[38;5;66;03m#gorsel yukleme\u001b[39;00m\n\u001b[32m----> \u001b[39m\u001b[32m2\u001b[39m img = load_img(\u001b[33m\"\u001b[39m\u001b[33m./home/batuhan/data/panda.png\u001b[39m\u001b[33m\"\u001b[39m)\n\u001b[32m      3\u001b[39m x= img_to_array(img)\n\u001b[32m      4\u001b[39m x=np.expand_dims(x, axis=\u001b[32m0\u001b[39m)\n",
      "\u001b[31mNameError\u001b[39m: name 'load_img' is not defined"
     ]
    }
   ],
   "source": [
    "#gorsel yukleme\n",
    "img = load_img(\"./home/batuhan/data/panda.png\")\n",
    "x= img_to_array(img)\n",
    "x=np.expand_dims(x, axis=0)\n",
    "\n",
    "#Augmentation seçenekleri\n",
    "\n",
    "datagen = ImageDataGenerator(\n",
    "    rotation_range = 40, # 0-40 derece döndürme\n",
    "    width_shift_range = 0.2, # yatay kaydırma\n",
    "    height_shift_range = 0.2, # dikey kaydırma\n",
    "    shear_range=0.2, #makaslama\n",
    "    zoom_range=0.3, # yakınlaştırma aralığı\n",
    "    horizontal_flip = True, # dikey çevirme\n",
    "    vertical_flip=True, #yatay çevirme\n",
    "    fill_mode=\"nearest\" #boş alan doldurma\n",
    ")"
   ]
  },
  {
   "cell_type": "code",
   "execution_count": 12,
   "id": "ae5e74ba-0d93-4249-a4bf-a253ec4e2e86",
   "metadata": {},
   "outputs": [
    {
     "ename": "NameError",
     "evalue": "name 'datagen' is not defined",
     "output_type": "error",
     "traceback": [
      "\u001b[31m---------------------------------------------------------------------------\u001b[39m",
      "\u001b[31mNameError\u001b[39m                                 Traceback (most recent call last)",
      "\u001b[36mCell\u001b[39m\u001b[36m \u001b[39m\u001b[32mIn[12]\u001b[39m\u001b[32m, line 4\u001b[39m\n\u001b[32m      1\u001b[39m \u001b[38;5;66;03m#örnek çoğaltma\u001b[39;00m\n\u001b[32m      3\u001b[39m i=\u001b[32m0\u001b[39m\n\u001b[32m----> \u001b[39m\u001b[32m4\u001b[39m \u001b[38;5;28;01mfor\u001b[39;00m batch \u001b[38;5;129;01min\u001b[39;00m datagen.flow(x, batch_size=\u001b[32m1\u001b[39m):\n\u001b[32m      5\u001b[39m     plt.figure(i)\n\u001b[32m      6\u001b[39m     plt.imsave(\u001b[33m\"\u001b[39m\u001b[33m./home/batuhan/data/panda-augmented-\u001b[39m\u001b[33m\"\u001b[39m+\u001b[38;5;28mstr\u001b[39m(i)+\u001b[33m\"\u001b[39m\u001b[33m.png\u001b[39m\u001b[33m\"\u001b[39m, batch[\u001b[32m0\u001b[39m].astype(\u001b[33m'\u001b[39m\u001b[33muint8\u001b[39m\u001b[33m'\u001b[39m))\n",
      "\u001b[31mNameError\u001b[39m: name 'datagen' is not defined"
     ]
    }
   ],
   "source": [
    "#örnek çoğaltma\n",
    "\n",
    "i=0\n",
    "for batch in datagen.flow(x, batch_size=1):\n",
    "    plt.imsave(\"./home/batuhan/data/panda-augmented-\"+str(i)+\".png\", batch[0].astype('uint8'))\n",
    "    i += 1\n",
    "    if i > 14:\n",
    "        break\n"
   ]
  },
  {
   "cell_type": "code",
   "execution_count": null,
   "id": "44db4f55-c233-4043-a3c2-7aee021f9f77",
   "metadata": {},
   "outputs": [],
   "source": []
  }
 ],
 "metadata": {
  "kernelspec": {
   "display_name": "Python 3 (ipykernel)",
   "language": "python",
   "name": "python3"
  },
  "language_info": {
   "codemirror_mode": {
    "name": "ipython",
    "version": 3
   },
   "file_extension": ".py",
   "mimetype": "text/x-python",
   "name": "python",
   "nbconvert_exporter": "python",
   "pygments_lexer": "ipython3",
   "version": "3.13.5"
  }
 },
 "nbformat": 4,
 "nbformat_minor": 5
}
