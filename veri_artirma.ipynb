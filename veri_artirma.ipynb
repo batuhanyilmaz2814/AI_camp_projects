{
 "cells": [
  {
   "cell_type": "code",
   "execution_count": 17,
   "id": "406112c9-65e6-4e9d-a790-a39526527a0f",
   "metadata": {},
   "outputs": [],
   "source": [
    "import pandas as pd"
   ]
  },
  {
   "cell_type": "code",
   "execution_count": 18,
   "id": "13a48d18-5098-4e71-98e2-fa117ef4351b",
   "metadata": {},
   "outputs": [],
   "source": [
    "from sklearn.datasets import make_classification"
   ]
  },
  {
   "cell_type": "code",
   "execution_count": 19,
   "id": "063bdee9-5cbe-4f71-a89d-b312bd5e9dcd",
   "metadata": {},
   "outputs": [],
   "source": [
    "from imblearn.over_sampling import SMOTE\n",
    "from collections import Counter"
   ]
  },
  {
   "cell_type": "code",
   "execution_count": 20,
   "id": "bb91f9ab-e0de-4669-90a7-e02decc85cd1",
   "metadata": {},
   "outputs": [],
   "source": [
    "# veri seti oluşturma"
   ]
  },
  {
   "cell_type": "code",
   "execution_count": 21,
   "id": "420faa2f-0508-49a3-9711-c3e79c0ccfc0",
   "metadata": {},
   "outputs": [],
   "source": [
    "X, y = make_classification(n_samples=1000, n_features=8, n_informative=3, n_redundant=0, n_classes=2, weights=[0.85, 0.15])\n",
    "#yapay veri seti oluşturma\n",
    "\n"
   ]
  },
  {
   "cell_type": "code",
   "execution_count": 22,
   "id": "0ec2d2df-111c-4cd3-b8e1-91b7267d0efc",
   "metadata": {},
   "outputs": [
    {
     "name": "stdout",
     "output_type": "stream",
     "text": [
      "Counter({np.int64(0): 845, np.int64(1): 155})\n"
     ]
    }
   ],
   "source": [
    "print(Counter(y))\n"
   ]
  },
  {
   "cell_type": "code",
   "execution_count": 23,
   "id": "0054ad4c-677d-43e4-bdeb-19c55fd8f823",
   "metadata": {},
   "outputs": [],
   "source": [
    "smote = SMOTE(sampling_strategy = 'auto', random_state = 42)"
   ]
  },
  {
   "cell_type": "code",
   "execution_count": 24,
   "id": "1576890b-149c-4d45-b9d0-2cd23ebfdea2",
   "metadata": {},
   "outputs": [],
   "source": [
    "X_res, y_res = smote.fit_resample(X,y)       #X_res dei resampling in kısaltmasıdır"
   ]
  },
  {
   "cell_type": "code",
   "execution_count": 25,
   "id": "a17f7f1c-4218-4987-88e5-a97b0764ba39",
   "metadata": {},
   "outputs": [
    {
     "name": "stdout",
     "output_type": "stream",
     "text": [
      "SMOTE SONRASI SINIF DAĞILIMI: Counter({np.int64(0): 845, np.int64(1): 845})\n"
     ]
    }
   ],
   "source": [
    "print(\"SMOTE SONRASI SINIF DAĞILIMI:\", Counter(y_res))\n"
   ]
  },
  {
   "cell_type": "code",
   "execution_count": 26,
   "id": "3d992ef2-e3b7-4adf-b7b9-52d36bf03786",
   "metadata": {},
   "outputs": [],
   "source": [
    "df_resampled = pd.DataFrame(X_res, columns=[f'feature_(i)' for i in range(X_res.shape[1])])"
   ]
  },
  {
   "cell_type": "code",
   "execution_count": 27,
   "id": "c1c158b3-21df-4bc4-99e3-69c3cb78cd30",
   "metadata": {},
   "outputs": [
    {
     "name": "stdout",
     "output_type": "stream",
     "text": [
      "      feature_(i)  feature_(i)  feature_(i)  feature_(i)  feature_(i)  \\\n",
      "0       -1.823320     0.387695    -1.007583    -0.477722    -0.578421   \n",
      "1        0.537107    -1.261361     1.067382     0.143575    -1.510691   \n",
      "2       -1.390408    -0.008027    -1.194007    -2.289096    -0.351064   \n",
      "3        1.454570    -1.498548    -1.637721     1.281510    -0.489949   \n",
      "4        0.131241    -0.004447     0.488762     0.615657    -1.177080   \n",
      "...           ...          ...          ...          ...          ...   \n",
      "1685     0.635102     0.441122     1.287302     1.192348     1.282268   \n",
      "1686    -1.482740     0.785394     0.445218     3.485907    -0.218965   \n",
      "1687    -1.789136     0.044911     0.806559     2.295990    -0.378991   \n",
      "1688     0.776116     0.991676     3.842465     1.279946    -0.109981   \n",
      "1689    -1.222583     0.024453    -1.205694    -2.328052    -0.320581   \n",
      "\n",
      "      feature_(i)  feature_(i)  feature_(i)  \n",
      "0       -1.189898     0.510987    -0.029841  \n",
      "1       -0.902278     1.211225     0.306216  \n",
      "2       -1.220332     1.895777     1.531200  \n",
      "3        0.028559     0.932177    -0.336313  \n",
      "4        1.212066     0.062712     1.742613  \n",
      "...           ...          ...          ...  \n",
      "1685     0.551921    -1.289748     0.848693  \n",
      "1686    -2.097694    -1.950647     0.430991  \n",
      "1687     0.945927    -1.301683     0.396616  \n",
      "1688     1.489522    -0.730247     1.547153  \n",
      "1689    -1.283323     1.948259     1.296162  \n",
      "\n",
      "[1690 rows x 8 columns]\n"
     ]
    }
   ],
   "source": [
    "print(df_resampled)"
   ]
  },
  {
   "cell_type": "code",
   "execution_count": null,
   "id": "411a06ee-828c-4632-a15f-8182f468f0ad",
   "metadata": {},
   "outputs": [],
   "source": []
  }
 ],
 "metadata": {
  "kernelspec": {
   "display_name": "Python 3 (ipykernel)",
   "language": "python",
   "name": "python3"
  },
  "language_info": {
   "codemirror_mode": {
    "name": "ipython",
    "version": 3
   },
   "file_extension": ".py",
   "mimetype": "text/x-python",
   "name": "python",
   "nbconvert_exporter": "python",
   "pygments_lexer": "ipython3",
   "version": "3.13.5"
  }
 },
 "nbformat": 4,
 "nbformat_minor": 5
}
