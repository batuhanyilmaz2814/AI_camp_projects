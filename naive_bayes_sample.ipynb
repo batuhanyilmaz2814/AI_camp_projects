{
 "cells": [
  {
   "cell_type": "code",
   "execution_count": 3,
   "id": "beb2fbea-2405-4ada-90f0-2b768b72ebce",
   "metadata": {},
   "outputs": [],
   "source": [
    "from typing import List, Tuple, Optional"
   ]
  },
  {
   "cell_type": "code",
   "execution_count": 4,
   "id": "32403201-bf02-4e5b-8fe5-84dda9334c64",
   "metadata": {},
   "outputs": [],
   "source": [
    "\n",
    "\n",
    "mantar_veri = [[1,1,4,True],[2,1,2,False],[1,2,4,True],[2,2,4,False],\n",
    "               [3,1,3,True],[2,1,4,False],[1,1,2,True],[3,2,4,False]]"
   ]
  },
  {
   "cell_type": "code",
   "execution_count": 5,
   "id": "0613d09c-46e3-4b6f-b071-e9d9c0feb98b",
   "metadata": {},
   "outputs": [],
   "source": [
    "def sinif_olasilik(veri):\n",
    "    dogrular = []\n",
    "    yanlislar = []\n",
    "    sayi = len(veri)\n",
    "    for mantar in veri:\n",
    "        if mantar[3] == True:\n",
    "            dogrular.append(True)\n",
    "        else:\n",
    "            yanlislar.append(False)\n",
    "      \n",
    "    zehirli_olasilik = len(dogrular)/sayi\n",
    "    zehirsiz_olasilik = len(yanlislar)/sayi\n",
    "\n",
    "    zehirli_sayi = len(dogrular)\n",
    "    zehirsiz_sayi = len(yanlislar)\n",
    "    \n",
    "    return zehirli_olasilik, zehirsiz_olasilik, zehirli_sayi,zehirsiz_sayi"
   ]
  },
  {
   "cell_type": "code",
   "execution_count": 6,
   "id": "6d712abf-b892-4e8b-a162-d4b5e1845e4f",
   "metadata": {},
   "outputs": [
    {
     "data": {
      "text/plain": [
       "(0.5, 0.5, 4, 4)"
      ]
     },
     "execution_count": 6,
     "metadata": {},
     "output_type": "execute_result"
    }
   ],
   "source": [
    "sinif_olasilik(mantar_veri)"
   ]
  },
  {
   "cell_type": "code",
   "execution_count": 9,
   "id": "3c52569e-19f8-4e56-8a5e-d82201b511cc",
   "metadata": {},
   "outputs": [],
   "source": [
    "def bayes_hesap(veri, renk, sapka, sap_renk):\n",
    "    tzehirli_olasilik, tzehirsiz_olasilik, zehirli_sayi, zehirsiz_sayi = sinif_olasilik(veri)\n",
    "    \n",
    "\n",
    "    zehirli_ozellik_sayilari = [0, 0, 0]\n",
    "    zehirsiz_ozellik_sayilari = [0, 0, 0]\n",
    "    for mantar in veri:\n",
    "  \n",
    "        if mantar[3] is True:\n",
    "            if mantar[0] == renk:\n",
    "                zehirli_ozellik_sayilari[0] += 1\n",
    "            if mantar[1] == sapka:\n",
    "                zehirli_ozellik_sayilari[1] += 1\n",
    "            if mantar[2] == sap_renk:\n",
    "                zehirli_ozellik_sayilari[2] += 1    \n",
    "        else:\n",
    "            if mantar[0] == renk:\n",
    "                zehirsiz_ozellik_sayilari[0] += 1\n",
    "            if mantar[1] == sapka:\n",
    "                zehirsiz_ozellik_sayilari[1] += 1\n",
    "            if mantar[2] == sap_renk:\n",
    "                zehirsiz_ozellik_sayilari[2] += 1\n",
    "\n",
    "    \n",
    "    p_zehir = tzehirli_olasilik * \\\n",
    "              (zehirli_ozellik_sayilari[0] / zehirli_sayi) * \\\n",
    "              (zehirli_ozellik_sayilari[1] / zehirli_sayi) * \\\n",
    "              (zehirli_ozellik_sayilari[2] / zehirli_sayi)\n",
    "    \n",
    "    p_zehirsiz = tzehirsiz_olasilik * \\\n",
    "                 (zehirsiz_ozellik_sayilari[0] / zehirsiz_sayi) * \\\n",
    "                 (zehirsiz_ozellik_sayilari[1] / zehirsiz_sayi) * \\\n",
    "                 (zehirsiz_ozellik_sayilari[2] / zehirsiz_sayi)\n",
    "\n",
    "    if p_zehir > p_zehirsiz:\n",
    "        print(\"zehirli\")\n",
    "    else:\n",
    "        print(\"afiyet olsun\")"
   ]
  },
  {
   "cell_type": "code",
   "execution_count": 10,
   "id": "25fac81b-ed91-4cb3-8353-54fd44e47ff1",
   "metadata": {},
   "outputs": [
    {
     "name": "stdout",
     "output_type": "stream",
     "text": [
      "afiyet olsun\n"
     ]
    }
   ],
   "source": [
    "bayes_hesap(mantar_veri, 2, 1, 2)"
   ]
  },
  {
   "cell_type": "code",
   "execution_count": null,
   "id": "2adc66db-eede-461f-8808-33360a3950e6",
   "metadata": {},
   "outputs": [],
   "source": []
  },
  {
   "cell_type": "code",
   "execution_count": null,
   "id": "2997354d-650b-4530-9901-cd61f69b8c7c",
   "metadata": {},
   "outputs": [],
   "source": []
  },
  {
   "cell_type": "code",
   "execution_count": null,
   "id": "bf3348ce-0ba2-448a-b5d3-56fa0eac6e15",
   "metadata": {},
   "outputs": [],
   "source": []
  },
  {
   "cell_type": "code",
   "execution_count": null,
   "id": "11dd3c1e-c6b5-4355-8fab-e49dd0428f44",
   "metadata": {},
   "outputs": [],
   "source": []
  }
 ],
 "metadata": {
  "kernelspec": {
   "display_name": "Python (newkernel)",
   "language": "python",
   "name": "newkernel"
  },
  "language_info": {
   "codemirror_mode": {
    "name": "ipython",
    "version": 3
   },
   "file_extension": ".py",
   "mimetype": "text/x-python",
   "name": "python",
   "nbconvert_exporter": "python",
   "pygments_lexer": "ipython3",
   "version": "3.11.13"
  }
 },
 "nbformat": 4,
 "nbformat_minor": 5
}
